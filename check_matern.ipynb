{
 "cells": [
  {
   "cell_type": "code",
   "execution_count": 52,
   "metadata": {},
   "outputs": [],
   "source": [
    "import jax.numpy as jnp\n",
    "from jax import jit,grad,hessian,jacfwd\n",
    "from jax.config import config\n",
    "config.update(\"jax_enable_x64\", True)\n",
    "import numpy as np\n",
    "import matplotlib.pyplot as plt\n",
    "plt.style.use('ggplot')\n",
    "from scipy.special import factorial\n",
    "\n",
    "import jax\n"
   ]
  },
  {
   "cell_type": "code",
   "execution_count": 63,
   "metadata": {},
   "outputs": [],
   "source": [
    "def get_matern_five_half(rho):\n",
    "    def k(x,y):\n",
    "        d=jnp.sqrt(jnp.sum((x-y)**2))\n",
    "        return (1+jnp.sqrt(5)*d/rho+jnp.sqrt(5)*d**2/(rho**2))*jnp.exp(-jnp.sqrt(5)*d/rho)\n",
    "    return k\n",
    "\n",
    "def get_gaussianRBF(gamma):\n",
    "    def f(x,y):\n",
    "        return jnp.exp(-jnp.sum((x-y)**2)/gamma)\n",
    "    return f\n",
    "\n",
    "def div(f,arg_num=0):\n",
    "    jac=jacfwd(f,argnums=arg_num)\n",
    "    def divergence(x,y):\n",
    "        return jnp.trace(jac(x,y))\n",
    "    return divergence\n",
    "\n",
    "def k_laplacian(f,arg_num=0):\n",
    "    return div(grad(f,argnums=arg_num),arg_num=arg_num)\n",
    "\n",
    "def laplacian(f,arg_num=0):\n",
    "    hess= hessian(f,argnums=arg_num)\n",
    "    def lap(x):\n",
    "        return jnp.trace(hess(x))\n",
    "    return lap\n"
   ]
  },
  {
   "cell_type": "code",
   "execution_count": 30,
   "metadata": {},
   "outputs": [],
   "source": [
    "k=get_matern_five_half(1)"
   ]
  },
  {
   "cell_type": "code",
   "execution_count": 31,
   "metadata": {},
   "outputs": [],
   "source": [
    "k_lapx = k_laplacian(k,arg_num=0)\n",
    "k_laplap = k_laplacian(k_lapx,arg_num=1)\n",
    "\n",
    "\n",
    "vec_k = jax.jit(jax.vmap(jax.vmap(k, in_axes=(None, 0)), in_axes=(0, None)))\n",
    "vec_k_lapx = jax.vmap(jax.vmap(k_lapx, in_axes=(None, 0)), in_axes=(0, None))\n",
    "vec_k_laplap = jax.vmap(jax.vmap(k_laplap, in_axes=(None, 0)), in_axes=(0, None))\n"
   ]
  },
  {
   "cell_type": "code",
   "execution_count": 49,
   "metadata": {},
   "outputs": [
    {
     "data": {
      "text/plain": [
       "[<matplotlib.lines.Line2D at 0x7fda6cf62a30>]"
      ]
     },
     "execution_count": 49,
     "metadata": {},
     "output_type": "execute_result"
    },
    {
     "data": {
      "image/png": "[encoded data removed]",
      "text/plain": [
       "<Figure size 432x288 with 1 Axes>"
      ]
     },
     "metadata": {},
     "output_type": "display_data"
    }
   ],
   "source": [
    "xgrid=jnp.linspace(-5,5,200)\n",
    "\n",
    "plt.plot(xgrid,vec_k_lapx(jnp.array([[0.]]),xgrid.reshape(-1,1)).flatten())"
   ]
  },
  {
   "cell_type": "code",
   "execution_count": 33,
   "metadata": {},
   "outputs": [
    {
     "data": {
      "text/plain": [
       "[<matplotlib.lines.Line2D at 0x7fda813e1040>]"
      ]
     },
     "execution_count": 33,
     "metadata": {},
     "output_type": "execute_result"
    },
    {
     "data": {
      "image/png": "[encoded data removed]",
      "text/plain": [
       "<Figure size 432x288 with 1 Axes>"
      ]
     },
     "metadata": {},
     "output_type": "display_data"
    }
   ],
   "source": [
    "plt.plot(vec_k(jnp.array([0]),xgrid).flatten())"
   ]
  },
  {
   "cell_type": "code",
   "execution_count": 41,
   "metadata": {},
   "outputs": [
    {
     "data": {
      "text/plain": [
       "Array(0.18306681, dtype=float64)"
      ]
     },
     "execution_count": 41,
     "metadata": {},
     "output_type": "execute_result"
    }
   ],
   "source": [
    "k_laplacian(k)(jnp.array([0,1.]),jnp.array([2.,1]))"
   ]
  },
  {
   "cell_type": "code",
   "execution_count": 51,
   "metadata": {},
   "outputs": [
    {
     "ename": "AttributeError",
     "evalue": "module 'jax.numpy' has no attribute 'math'",
     "output_type": "error",
     "traceback": [
      "\u001b[0;31m---------------------------------------------------------------------------\u001b[0m",
      "\u001b[0;31mAttributeError\u001b[0m                            Traceback (most recent call last)",
      "\u001b[1;32m/Users/owlx/Dropbox/UW Math Work/AMATH563/Project/kernel-pdes/check_matern.ipynb Cell 8\u001b[0m in \u001b[0;36m<cell line: 1>\u001b[0;34m()\u001b[0m\n\u001b[0;32m----> <a href='vscode-notebook-cell:/Users/owlx/Dropbox/UW%20Math%20Work/AMATH563/Project/kernel-pdes/check_matern.ipynb#X11sZmlsZQ%3D%3D?line=0'>1</a>\u001b[0m jnp\u001b[39m.\u001b[39;49mmath\u001b[39m.\u001b[39mfactorial(\u001b[39m3\u001b[39m)\n",
      "\u001b[0;31mAttributeError\u001b[0m: module 'jax.numpy' has no attribute 'math'"
     ]
    }
   ],
   "source": [
    "jnp.math.factorial(3)"
   ]
  },
  {
   "cell_type": "code",
   "execution_count": 54,
   "metadata": {},
   "outputs": [],
   "source": [
    "def matern(p,rho):\n",
    "    f=factorial(p)/factorial(2*p)\n",
    "    C=jnp.sqrt(2*p+1)/rho\n",
    "\n",
    "    def k(x,y):\n",
    "        d=jnp.sqrt(jnp.sum((x-y)**2))\n",
    "        exp_part=jnp.exp(-C*d)\n",
    "        poly_part=0\n",
    "        for i in range(p+1):\n",
    "            coef=factorial(p+i)/(factorial(i)*factorial(p-i))\n",
    "            power=(2*C*d)**(p-i)\n",
    "            poly_part += coef*power\n",
    "        return exp_part*poly_part*f\n",
    "    return k\n"
   ]
  },
  {
   "cell_type": "code",
   "execution_count": 81,
   "metadata": {},
   "outputs": [],
   "source": [
    "k=matern(50,0.1)\n",
    "k=get_gaussianRBF(0.1)\n",
    "k_lapx = k_laplacian(k,arg_num=0)\n",
    "k_laplap = k_laplacian(k_lapx,arg_num=1)\n",
    "\n",
    "\n",
    "vec_k = jax.jit(jax.vmap(jax.vmap(k, in_axes=(None, 0)), in_axes=(0, None)))\n",
    "vec_k_lapx = jax.vmap(jax.vmap(k_lapx, in_axes=(None, 0)), in_axes=(0, None))\n",
    "vec_k_laplap = jax.vmap(jax.vmap(k_laplap, in_axes=(None, 0)), in_axes=(0, None))\n"
   ]
  },
  {
   "cell_type": "code",
   "execution_count": 83,
   "metadata": {},
   "outputs": [],
   "source": [
    "k=get_gaussianRBF(0.1)\n",
    "k_lapx = k_laplacian(k,arg_num=0)\n",
    "k_laplap = k_laplacian(k_lapx,arg_num=1)\n",
    "\n",
    "\n",
    "vec_k = jax.jit(jax.vmap(jax.vmap(k, in_axes=(None, 0)), in_axes=(0, None)))\n",
    "vec_k_lapx = jax.vmap(jax.vmap(k_lapx, in_axes=(None, 0)), in_axes=(0, None))\n",
    "vec_k_laplap = jax.vmap(jax.vmap(k_laplap, in_axes=(None, 0)), in_axes=(0, None))\n"
   ]
  },
  {
   "cell_type": "code",
   "execution_count": 82,
   "metadata": {},
   "outputs": [
    {
     "data": {
      "text/plain": [
       "[<matplotlib.lines.Line2D at 0x7fda726c9c70>]"
      ]
     },
     "execution_count": 82,
     "metadata": {},
     "output_type": "execute_result"
    },
    {
     "data": {
      "image/png": "[encoded data removed]",
      "text/plain": [
       "<Figure size 432x288 with 1 Axes>"
      ]
     },
     "metadata": {},
     "output_type": "display_data"
    }
   ],
   "source": [
    "xgrid=jnp.linspace(-1,1,200)\n",
    "\n",
    "plt.plot(xgrid,vec_k_laplap(jnp.array([[0.]]),xgrid.reshape(-1,1)).flatten())"
   ]
  },
  {
   "cell_type": "code",
   "execution_count": 61,
   "metadata": {},
   "outputs": [
    {
     "data": {
      "text/plain": [
       "Array(138.77103158, dtype=float64)"
      ]
     },
     "execution_count": 61,
     "metadata": {},
     "output_type": "execute_result"
    }
   ],
   "source": [
    "jnp.max(jnp.abs(vec_k_lapx(jnp.array([[0.]]),xgrid.reshape(-1,1))))"
   ]
  }
 ],
 "metadata": {
  "kernelspec": {
   "display_name": "Python 3 (ipykernel)",
   "language": "python",
   "name": "python3"
  },
  "language_info": {
   "codemirror_mode": {
    "name": "ipython",
    "version": 3
   },
   "file_extension": ".py",
   "mimetype": "text/x-python",
   "name": "python",
   "nbconvert_exporter": "python",
   "pygments_lexer": "ipython3",
   "version": "3.9.7"
  }
 },
 "nbformat": 4,
 "nbformat_minor": 2
}
