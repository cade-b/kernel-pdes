{
 "cells": [
  {
   "cell_type": "code",
   "execution_count": 1,
   "id": "e85d2eb9",
   "metadata": {},
   "outputs": [
    {
     "name": "stderr",
     "output_type": "stream",
     "text": [
      "No GPU/TPU found, falling back to CPU. (Set TF_CPP_MIN_LOG_LEVEL=0 and rerun for more info.)\n"
     ]
    }
   ],
   "source": [
    "import jax.numpy as jnp\n",
    "from jax import jit,grad,hessian,jacfwd\n",
    "from jax.config import config\n",
    "config.update(\"jax_enable_x64\", True)\n",
    "import numpy as np\n",
    "import matplotlib.pyplot as plt\n",
    "\n",
    "import jax\n",
    "\n",
    "key = jax.random.PRNGKey(420)\n",
    "from scipy.interpolate import CloughTocher2DInterpolator\n",
    "\n",
    "def resample(X,y,m_interp=40):\n",
    "    interp = CloughTocher2DInterpolator(X, y,fill_value=0)\n",
    "    xgrid,ygrid = np.linspace(0,1,m_interp),np.linspace(0,1,m_interp)\n",
    "    meshX,meshY=np.meshgrid(xgrid,ygrid)\n",
    "    return xgrid,ygrid,interp(meshX,meshY)\n"
   ]
  },
  {
   "cell_type": "code",
   "execution_count": 2,
   "id": "6b445a0c",
   "metadata": {},
   "outputs": [],
   "source": [
    "def get_gaussianRBF(gamma):\n",
    "    def f(x,y):\n",
    "        return jnp.exp(-jnp.sum((x-y)**2)/gamma)\n",
    "    return f\n",
    "\n",
    "def div(f,arg_num=0):\n",
    "    jac=jacfwd(f,argnums=arg_num)\n",
    "    def divergence(x,y):\n",
    "        return jnp.trace(jac(x,y))\n",
    "    return divergence\n",
    "\n",
    "def k_laplacian(f,arg_num=0):\n",
    "    return div(grad(f,argnums=arg_num),arg_num=arg_num)\n",
    "\n",
    "def laplacian(f,arg_num=0):\n",
    "    hess= hessian(f,argnums=arg_num)\n",
    "    def lap(x):\n",
    "        return jnp.trace(hess(x))\n",
    "    return lap\n",
    "\n",
    "k= get_gaussianRBF(0.1)\n",
    "k_lapx = k_laplacian(k,arg_num=0)\n",
    "k_laplap = k_laplacian(k_lapx,arg_num=1)\n",
    "\n",
    "\n",
    "vec_k = jax.vmap(jax.vmap(k, in_axes=(0, None)), in_axes=(None, 0))\n",
    "vec_k_lapx = jax.vmap(jax.vmap(k_lapx, in_axes=(0, None)), in_axes=(None, 0))\n",
    "vec_k_laplap = jax.vmap(jax.vmap(k_laplap, in_axes=(0, None)), in_axes=(None, 0))\n",
    "\n",
    "def true_solution_single(x):\n",
    "    boundary_term = x[0]*(1-x[0])*x[1]*(1-x[1])\n",
    "    interior = jnp.cos(5*jnp.pi*((0.5-x[0])**2 + (0.3*x[1])**2))\n",
    "    return 4 * boundary_term * interior\n",
    "\n",
    "true_solution=jit(jax.vmap(true_solution_single,in_axes=0))\n",
    "rhs_func = jit(jax.vmap(laplacian(true_solution_single)))"
   ]
  },
  {
   "cell_type": "code",
   "execution_count": 3,
   "id": "95cf8de1",
   "metadata": {},
   "outputs": [],
   "source": [
    "m_interp=50\n",
    "xgrid,ygrid = np.linspace(0,1,m_interp),np.linspace(0,1,m_interp)\n",
    "meshX,meshY=np.meshgrid(xgrid,ygrid)\n",
    "\n",
    "interpolation_points = jnp.vstack([meshX.flatten(),meshY.flatten()]).T\n",
    "\n",
    "interp_solution=(true_solution(interpolation_points)).reshape(m_interp,m_interp)\n",
    "interp_rhs=(rhs_func(interpolation_points)).reshape(m_interp,m_interp)"
   ]
  },
  {
   "cell_type": "code",
   "execution_count": 4,
   "id": "7b9f51b5",
   "metadata": {},
   "outputs": [
    {
     "data": {
      "image/png": "[encoded data removed]",
      "text/plain": [
       "<Figure size 432x288 with 2 Axes>"
      ]
     },
     "metadata": {
      "needs_background": "light"
     },
     "output_type": "display_data"
    },
    {
     "data": {
      "image/png": "[encoded data removed]",
      "text/plain": [
       "<Figure size 432x288 with 2 Axes>"
      ]
     },
     "metadata": {
      "needs_background": "light"
     },
     "output_type": "display_data"
    }
   ],
   "source": [
    "plt.title(\"True Solution\")\n",
    "plt.contourf(meshX,meshY,interp_solution)\n",
    "plt.colorbar()\n",
    "plt.show()\n",
    "plt.title(\"Forcing Function\")\n",
    "plt.contourf(meshX,meshY,interp_rhs)\n",
    "plt.colorbar()\n",
    "plt.show()"
   ]
  },
  {
   "cell_type": "code",
   "execution_count": 5,
   "id": "95db3025",
   "metadata": {},
   "outputs": [],
   "source": [
    "#make error plot\n",
    "errvec = []\n",
    "num_interior=20\n",
    "\n",
    "num_per_boundary=3\n",
    "num_boundary=4*num_per_boundary\n",
    "numvec = [num_interior+num_boundary]\n",
    "for i in range(5):\n",
    "    interior_points = jax.random.uniform(key,shape=(num_interior,2),minval=0,maxval=1)\n",
    "\n",
    "    boundary_point_samples=np.linspace(0,1,num_per_boundary)\n",
    "    boundary_points = np.hstack([\n",
    "        np.vstack((np.zeros(num_per_boundary),boundary_point_samples)),\n",
    "        np.vstack((np.ones(num_per_boundary),boundary_point_samples)),\n",
    "        np.vstack((boundary_point_samples,np.ones(num_per_boundary))),\n",
    "        np.vstack((boundary_point_samples,np.zeros(num_per_boundary)))\n",
    "    ]).T\n",
    "\n",
    "    all_points = jnp.vstack([interior_points,boundary_points])\n",
    "    \n",
    "    K1 = vec_k_laplap(interior_points,interior_points)\n",
    "    K2 = vec_k_lapx(boundary_points,interior_points)\n",
    "    K3 = K2.T\n",
    "    K4 = vec_k(boundary_points,boundary_points)\n",
    "\n",
    "    K_full = jnp.block(\n",
    "        [\n",
    "            [K1,K2],\n",
    "            [K3,K4]\n",
    "        ]\n",
    "    )\n",
    "\n",
    "    interior_rhs = rhs_func(interior_points)\n",
    "    boundary_rhs = jnp.zeros(num_boundary)\n",
    "    rhs_total = jnp.hstack([interior_rhs,boundary_rhs])\n",
    "    \n",
    "    nugget=1e-10\n",
    "    Kmat=K_full+nugget*jnp.diag(jnp.diag(K_full))\n",
    "    coef_sol=jax.scipy.linalg.solve(Kmat,rhs_total,assume_a='pos')\n",
    "    residual = rhs_total - K_full@coef_sol\n",
    "    coef_sol_refined=coef_sol+jax.scipy.linalg.solve(Kmat,residual,assume_a='pos')\n",
    "\n",
    "    residual_refined = rhs_total - K_full@coef_sol_refined\n",
    "\n",
    "    eval_K=vec_k(interior_points,all_points).T\n",
    "    sol_vals = eval_K@coef_sol\n",
    "\n",
    "\n",
    "    num_grid_points=100\n",
    "    xgrid=jnp.linspace(0,1,num_grid_points)\n",
    "    ygrid=jnp.linspace(0,1,num_grid_points)\n",
    "\n",
    "    XX,YY=jnp.meshgrid(xgrid,ygrid)\n",
    "\n",
    "    interpolation_points = jnp.vstack([XX.flatten(),YY.flatten()]).T\n",
    "\n",
    "    interp_k = jnp.block(\n",
    "        [\n",
    "            [vec_k_lapx(interior_points,interpolation_points),vec_k(boundary_points,interpolation_points)]\n",
    "        ]\n",
    "    )\n",
    "\n",
    "    interp_solution=(interp_k@coef_sol).reshape(num_grid_points,num_grid_points)\n",
    "    interp_solution_refined=(interp_k@coef_sol_refined).reshape(num_grid_points,num_grid_points)\n",
    "\n",
    "    interp_rhs = rhs_func(interpolation_points).reshape(num_grid_points,num_grid_points)\n",
    "    interp_true_sol = true_solution(interpolation_points).reshape(num_grid_points,num_grid_points)\n",
    "    error = interp_solution-interp_true_sol\n",
    "    error_refined = interp_solution_refined-interp_true_sol\n",
    "    \n",
    "    errvec.append(jnp.max(jnp.abs(error)))\n",
    "    num_interior*=3\n",
    "    num_per_boundary*=3\n",
    "    num_boundary=4*num_per_boundary\n",
    "    numvec.append(num_interior+num_boundary)"
   ]
  },
  {
   "cell_type": "code",
   "execution_count": 10,
   "id": "4984e819",
   "metadata": {},
   "outputs": [
    {
     "data": {
      "text/plain": [
       "Text(0, 0.5, 'Error')"
      ]
     },
     "execution_count": 10,
     "metadata": {},
     "output_type": "execute_result"
    },
    {
     "data": {
      "image/png": "[encoded data removed]",
      "text/plain": [
       "<Figure size 432x288 with 1 Axes>"
      ]
     },
     "metadata": {
      "needs_background": "light"
     },
     "output_type": "display_data"
    }
   ],
   "source": [
    "plt.loglog(numvec[:-1],errvec)\n",
    "plt.xlabel(\"Number of collocation points\")\n",
    "plt.ylabel(\"Error\")"
   ]
  },
  {
   "cell_type": "code",
   "execution_count": null,
   "id": "4f0bd0ad",
   "metadata": {},
   "outputs": [],
   "source": []
  }
 ],
 "metadata": {
  "kernelspec": {
   "display_name": "Python 3 (ipykernel)",
   "language": "python",
   "name": "python3"
  },
  "language_info": {
   "codemirror_mode": {
    "name": "ipython",
    "version": 3
   },
   "file_extension": ".py",
   "mimetype": "text/x-python",
   "name": "python",
   "nbconvert_exporter": "python",
   "pygments_lexer": "ipython3",
   "version": "3.9.7"
  }
 },
 "nbformat": 4,
 "nbformat_minor": 5
}
